{
 "cells": [
  {
   "cell_type": "markdown",
   "metadata": {},
   "source": [
    "***João Guilherme de Souza Barboza \\\\ 304260 \\\\ jguibarboza@gmail.com***"
   ]
  },
  {
   "cell_type": "markdown",
   "metadata": {},
   "source": [
    "# Programa para criar uma matriz **N x N**, tal que o elemento   **M[ i ][ j ]**,  seja igual a **(i+j)**"
   ]
  },
  {
   "cell_type": "markdown",
   "metadata": {
    "id": "oBHukgDj15xS"
   },
   "source": [
    "## Primeira tentantiva: \n",
    "### Erro!<br> Ao criar uma nova variável com outra lista para inserir na principal, geramos um problema quando chegamos na transformação de i e j para i+j, que na verdade tem indexado o termo **j**, da lista principal ***M***,(M[ i ]**[ j ]**) com a variável ''***linha***''( o termo **[ j ]** da principal), logo a matriz printada é diferente do esperado:\n",
    "\n",
    "---\n",
    "    M=[[4, 5, 6, 7, 8],\n",
    "      [4, 5, 6, 7, 8],\n",
    "      [4, 5, 6, 7, 8],\n",
    "      [4, 5, 6, 7, 8],\n",
    "      [4, 5, 6, 7, 8]]\n",
    "---\n",
    "\n",
    "### Assim, as linhas são na verdades todas iguais porque internamente na memória são a própria variável \"***linha***\" mexida pelo loop 'for' da soma  i+j, e com valores diferentes dos desejados por conta do mesmo problema. Esperavamos gerar M = [ [ ], [ ]...N[ ] ], e no fim geramos M = [ linha, linha, ...., Nlinha ], que ao ser printado gera falsa certeza por vermos os valores numéricos que nao necessariamente deixam clara a interação das variáveis do código."
   ]
  },
  {
   "cell_type": "code",
   "execution_count": 1,
   "metadata": {
    "colab": {
     "base_uri": "https://localhost:8080/"
    },
    "id": "MIMhcQlasT7w",
    "outputId": "00ae402b-5f06-4cb4-9426-553bd0346532"
   },
   "outputs": [
    {
     "name": "stdout",
     "output_type": "stream",
     "text": [
      "[[0, 0, 0, 0, 0], [0, 0, 0, 0, 0], [0, 0, 0, 0, 0], [0, 0, 0, 0, 0], [0, 0, 0, 0, 0]]\n",
      "\n",
      " Matriz final:\n",
      "\n"
     ]
    },
    {
     "data": {
      "text/plain": [
       "[[4, 5, 6, 7, 8],\n",
       " [4, 5, 6, 7, 8],\n",
       " [4, 5, 6, 7, 8],\n",
       " [4, 5, 6, 7, 8],\n",
       " [4, 5, 6, 7, 8]]"
      ]
     },
     "execution_count": 1,
     "metadata": {},
     "output_type": "execute_result"
    }
   ],
   "source": [
    "N = 5                        #N da matriz NxN\n",
    "M = []                       #Lista/Matriz principal \n",
    "linha = []                   #Tentativa de matriz secundária vazia a ser inserida na primeira\n",
    "\n",
    "for i in range (N):          #Preenchendo a matriz secundária\n",
    "  linha.append(0)            \n",
    "\n",
    "for i in range(N):           #Preenchendo a matriz principal com a secundária\n",
    "  M.append(linha)\n",
    "                    \n",
    "print(f\"{M}\\n\\n Matriz final:\\n\") #Printando M sem a função da soma, aqui temos a falsa sensação de ter criado a matriz ideal\n",
    "                                    #mas infelizmente as linhas sao a variáveis 'linha' indexada dentro de M\n",
    "\n",
    "for i in range(N):           #Loop consecutivos para aplicar a condição de soma desejada das coordenadas\n",
    "  for j in range(N):\n",
    "    M[i][j] = i + j\n",
    "M                            #Mostra a matriz final"
   ]
  },
  {
   "cell_type": "code",
   "execution_count": 2,
   "metadata": {
    "colab": {
     "base_uri": "https://localhost:8080/"
    },
    "id": "W7NDDcBQ3FDZ",
    "outputId": "c2df9f31-ffb8-4e3a-f56e-2445746175ea"
   },
   "outputs": [
    {
     "name": "stdout",
     "output_type": "stream",
     "text": [
      "4\n"
     ]
    }
   ],
   "source": [
    "print(M[0][0])          #Teste para ver na memória o valor do termo (0,0) da matriz que deveria devolver 0"
   ]
  },
  {
   "cell_type": "markdown",
   "metadata": {
    "id": "b43kRMuz-cgy"
   },
   "source": [
    "## Segunda tentativa:\n",
    "### Sucesso!<br>Entendendo que precisamos adicionar as listas internas de alguma forma direta, sem fazer uso de outras variáveis que ficariam indexadas internamente na matriz principal."
   ]
  },
  {
   "cell_type": "markdown",
   "metadata": {
    "id": "RrSHvJH_Cep7"
   },
   "source": [
    "#### Modo 1: Alimentando a matriz principal sem novas variáveis"
   ]
  },
  {
   "cell_type": "code",
   "execution_count": 3,
   "metadata": {
    "colab": {
     "base_uri": "https://localhost:8080/"
    },
    "id": "OQsxxkl30zjG",
    "outputId": "f83da4d4-43f0-43ae-d163-5d3c8a631304"
   },
   "outputs": [
    {
     "name": "stdout",
     "output_type": "stream",
     "text": [
      "[[0, 0, 0, 0, 0], [0, 0, 0, 0, 0], [0, 0, 0, 0, 0], [0, 0, 0, 0, 0], [0, 0, 0, 0, 0]]\n"
     ]
    },
    {
     "data": {
      "text/plain": [
       "[[0, 1, 2, 3, 4],\n",
       " [1, 2, 3, 4, 5],\n",
       " [2, 3, 4, 5, 6],\n",
       " [3, 4, 5, 6, 7],\n",
       " [4, 5, 6, 7, 8]]"
      ]
     },
     "execution_count": 3,
     "metadata": {},
     "output_type": "execute_result"
    }
   ],
   "source": [
    "N=5                   #N da matriz NxN\n",
    "M=[]\n",
    "\n",
    "for i in range(N):    #Preenchendo a matriz principal diretamente com um uma matriz vazia em loop também de N\n",
    "  M.append([0] * N)       #Sem indexar internamente outras variáveis no processo!\n",
    "print(M)\n",
    "for i in range(N):    #Loop consecutivos para aplicar a condição de soma desejada das coordenadas\n",
    "  for j in range(N):\n",
    "    M[i][j]=i+j\n",
    "M                     #Mostra a matriz final"
   ]
  },
  {
   "cell_type": "markdown",
   "metadata": {
    "id": "L-rD571QCayR"
   },
   "source": [
    "#### Modo 2: Preenchendo a matriz principal diretamente com 0's dentro de uma nova lista em loop interno"
   ]
  },
  {
   "cell_type": "code",
   "execution_count": 4,
   "metadata": {
    "colab": {
     "base_uri": "https://localhost:8080/"
    },
    "id": "DdHdVsDlgOFp",
    "outputId": "bcd93a84-962d-4c1b-ed36-c07a2d33b9e0"
   },
   "outputs": [
    {
     "name": "stdout",
     "output_type": "stream",
     "text": [
      "[0, 1, 2, 3, 4]\n",
      "[1, 2, 3, 4, 5]\n",
      "[2, 3, 4, 5, 6]\n",
      "[3, 4, 5, 6, 7]\n",
      "[4, 5, 6, 7, 8]\n"
     ]
    }
   ],
   "source": [
    "N = 5           #N da matriz NxN\n",
    "\n",
    "#Gerando e Preenchendo a matriz principal diretamente com 0's dentro de uma nova lista em loop interno\n",
    "M = [[0 for i in range(N)] for j in range(N)]  \n",
    "\n",
    "for i in range(N):     #Loop consecutivos para aplicar a condição de soma desejada das coordenadas\n",
    "  for j in range(N):\n",
    "    M[i][j] = i + j\n",
    "\n",
    "for i in range(N): # For para printar a matriz (para melhor vizalização da matriz, mandos printar em loop de linha em linha)\n",
    "  print(M[i])"
   ]
  },
  {
   "cell_type": "markdown",
   "metadata": {
    "id": "8dfauzTJDRuU"
   },
   "source": [
    "#### Modo 3: Forma mais concisa possível"
   ]
  },
  {
   "cell_type": "code",
   "execution_count": 5,
   "metadata": {
    "colab": {
     "base_uri": "https://localhost:8080/"
    },
    "id": "KjXKawk20cPi",
    "outputId": "3ff38e99-403c-436b-d7e3-0b33a7aba1e1"
   },
   "outputs": [
    {
     "data": {
      "text/plain": [
       "[[0, 1, 2, 3, 4],\n",
       " [1, 2, 3, 4, 5],\n",
       " [2, 3, 4, 5, 6],\n",
       " [3, 4, 5, 6, 7],\n",
       " [4, 5, 6, 7, 8]]"
      ]
     },
     "execution_count": 5,
     "metadata": {},
     "output_type": "execute_result"
    }
   ],
   "source": [
    "N = 5     #N da matriz NxN\n",
    "\n",
    "# For loop interno,gerando as linhas e colunas, já gerando os termos em i+j\n",
    "M = [[i+j for j in range(N)] for i in range(N)] \n",
    "\n",
    "M         #Mostra a matriz final"
   ]
  },
  {
   "cell_type": "markdown",
   "metadata": {
    "id": "B-HYY33mDimR"
   },
   "source": [
    "#### Modo 4: Forma mais organizada, com a sucessão de operações do código e em forma de programa com print final correto"
   ]
  },
  {
   "cell_type": "code",
   "execution_count": 6,
   "metadata": {
    "id": "n6Dp3FEqqobw"
   },
   "outputs": [
    {
     "name": "stdout",
     "output_type": "stream",
     "text": [
      "Digite o valor de N:5\n",
      "\n",
      " NxN|[i][j] = i + j:\n",
      "\n",
      "[0, 1, 2, 3, 4]\n",
      "[1, 2, 3, 4, 5]\n",
      "[2, 3, 4, 5, 6]\n",
      "[3, 4, 5, 6, 7]\n",
      "[4, 5, 6, 7, 8]\n"
     ]
    }
   ],
   "source": [
    "Z = int(input(\"Digite o valor de N:\")) #Pedindo valor de N\n",
    "   \n",
    "matrix = [] # Declarando a matriz\n",
    "  \n",
    "# For loop gerando as linhas e colunas, enquanto transforma os 0's em i+j\n",
    "for i in range(Z):                             # For loop linhas\n",
    "  matrix.append([0 for i in range(Z)])         # For loop colunas\n",
    "\n",
    "# For loop transformando os 0's em i+j\n",
    "for i in range(Z):\n",
    "  for j in range(Z):\n",
    "    matrix[i][j] = i + j\n",
    "  \n",
    "# For para printar a matriz (para melhor vizalização da matriz, mandos printar em loop de linha em linha)\n",
    "print(\"\\n NxN|[i][j] = i + j:\\n\")\n",
    "for i in range(Z):\n",
    "  print(matrix[i])"
   ]
  },
  {
   "cell_type": "markdown",
   "metadata": {
    "id": "wN2h6htGFAWX"
   },
   "source": [
    "#### Bônus: Programa que cria matrix NxM e preenche com valores desejados"
   ]
  },
  {
   "cell_type": "code",
   "execution_count": 8,
   "metadata": {
    "colab": {
     "base_uri": "https://localhost:8080/"
    },
    "id": "OohzgB1gkU5H",
    "outputId": "1fcd5cc6-8cd3-47d9-e120-7d5d10db1e0b"
   },
   "outputs": [
    {
     "name": "stdout",
     "output_type": "stream",
     "text": [
      "Quantidade de linhas desejadas: 3\n",
      "Quantidade de colunas desejadas: 4\n",
      "\n",
      "Entre com os valores ao longo das fileiras: \n",
      "\n",
      "Linha 1 : \n",
      "Coluna 1 / Matriz[ 0 ][ 0 ]: \n",
      "12\n",
      "Coluna 2 / Matriz[ 0 ][ 1 ]: \n",
      "1.5\n",
      "Coluna 3 / Matriz[ 0 ][ 2 ]: \n",
      "0\n",
      "Coluna 4 / Matriz[ 0 ][ 3 ]: \n",
      "1\n",
      "Linha 2 : \n",
      "Coluna 1 / Matriz[ 1 ][ 0 ]: \n",
      "192\n",
      "Coluna 2 / Matriz[ 1 ][ 1 ]: \n",
      "15.2\n",
      "Coluna 3 / Matriz[ 1 ][ 2 ]: \n",
      "2.222\n",
      "Coluna 4 / Matriz[ 1 ][ 3 ]: \n",
      "8\n",
      "Linha 3 : \n",
      "Coluna 1 / Matriz[ 2 ][ 0 ]: \n",
      "9\n",
      "Coluna 2 / Matriz[ 2 ][ 1 ]: \n",
      "11\n",
      "Coluna 3 / Matriz[ 2 ][ 2 ]: \n",
      "13\n",
      "Coluna 4 / Matriz[ 2 ][ 3 ]: \n",
      "43\n",
      "\n",
      " Sua matriz é:\n",
      "\n",
      "[12.0, 1.5, 0.0, 1.0]\n",
      "[192.0, 15.2, 2.222, 8.0]\n",
      "[9.0, 11.0, 13.0, 43.0]\n"
     ]
    }
   ],
   "source": [
    "N = int(input(\"Quantidade de linhas desejadas: \")) \n",
    "M = int(input(\"Quantidade de colunas desejadas: \")) \n",
    "print()\n",
    "  \n",
    "# Inicia a matriz\n",
    "matrix = [] \n",
    "print(\"Entre com os valores ao longo das fileiras: \\n\") \n",
    "  \n",
    "# For user input \n",
    "for i in range(N):            #For loop para as linhas \n",
    "  print('Linha',(i+1),': ')\n",
    "  a =[] \n",
    "  for j in range(M):          #For loop para as colunas\n",
    "    print('Coluna',(j+1),'/ Matriz[',(i),'][',(j),']: ')\n",
    "    a.append(float(input()))\n",
    "  matrix.append(a) \n",
    "  \n",
    "#For para printar a matriz (para melhor vizalização da matriz, mandos printar em loop de linha em linha)\n",
    "print(\"\\n Sua matriz é:\\n\")\n",
    "for i in range(N):\n",
    "  print(matrix[i])"
   ]
  }
 ],
 "metadata": {
  "colab": {
   "collapsed_sections": [],
   "name": "Matrizes_NxN_i+j",
   "provenance": []
  },
  "kernelspec": {
   "display_name": "Python 3 (ipykernel)",
   "language": "python",
   "name": "python3"
  },
  "language_info": {
   "codemirror_mode": {
    "name": "ipython",
    "version": 3
   },
   "file_extension": ".py",
   "mimetype": "text/x-python",
   "name": "python",
   "nbconvert_exporter": "python",
   "pygments_lexer": "ipython3",
   "version": "3.8.10"
  }
 },
 "nbformat": 4,
 "nbformat_minor": 1
}
