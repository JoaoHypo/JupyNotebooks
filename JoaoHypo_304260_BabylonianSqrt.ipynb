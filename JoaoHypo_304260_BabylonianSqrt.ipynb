{
 "cells": [
  {
   "cell_type": "markdown",
   "id": "7f570326",
   "metadata": {},
   "source": [
    "##### Porto Alegre, July, 2022."
   ]
  },
  {
   "cell_type": "markdown",
   "id": "79b690a2",
   "metadata": {},
   "source": [
    "#### João Guilherme de Souza Barboza "
   ]
  },
  {
   "cell_type": "markdown",
   "id": "3caebfa1",
   "metadata": {},
   "source": [
    "jguibarboza@gmail.com"
   ]
  },
  {
   "cell_type": "markdown",
   "id": "72dd2e1f",
   "metadata": {},
   "source": [
    "#### 304260"
   ]
  },
  {
   "cell_type": "markdown",
   "id": "d482f7e2",
   "metadata": {},
   "source": [
    "# Babylonian square root algorithm implementation in python"
   ]
  },
  {
   "cell_type": "markdown",
   "id": "4d9cb167",
   "metadata": {},
   "source": [
    "![Babylonian meme](https://c-for-dummies.com/blog/wp-content/uploads/2022/04/04_hammurabi-can-code-that.png)"
   ]
  },
  {
   "cell_type": "markdown",
   "id": "5ab3ff83",
   "metadata": {},
   "source": [
    "\n",
    "## Creating a function in python that implements the Babylonian algorithm."
   ]
  },
  {
   "cell_type": "code",
   "execution_count": 1,
   "id": "b6e8e64a",
   "metadata": {
    "scrolled": false
   },
   "outputs": [],
   "source": [
    "def bab(x):\n",
    "    \n",
    "    \"\"\"Computes the square root of any positive real number.X should be an integer,float, or another numeric type.\"\"\"\n",
    "    \n",
    "    precision = 0.00000000000000001 #default precision python uses while working with floats\n",
    "    \n",
    "    if (x < 0):\n",
    "        return print(f\"Can't compute square root of non positive real number\")      \n",
    "             \n",
    "    elif (x == 0):\n",
    "        return x\n",
    "    \n",
    "    elif (x == 1): \n",
    "        return x\n",
    "    \n",
    "    else:\n",
    "        guess = x/2 \n",
    "    #x/2 its a good guess, but since python is the one doing all the math, we could actually guess any positive real number. \n",
    "        \n",
    "    while True:\n",
    "        \n",
    "        average = (0.5 * ( guess + ( x / guess)))\n",
    "                   \n",
    "        dif = (abs(average - guess))\n",
    "        \n",
    "        if dif < precision:\n",
    "            break\n",
    "        \n",
    "        guess = average\n",
    "    return guess\n",
    "     "
   ]
  },
  {
   "cell_type": "markdown",
   "id": "f47bb6b8",
   "metadata": {},
   "source": [
    "## Comparing the Babylonian function with math module's sqrt() function."
   ]
  },
  {
   "cell_type": "markdown",
   "id": "160f5aad",
   "metadata": {},
   "source": [
    "### Test out:"
   ]
  },
  {
   "cell_type": "code",
   "execution_count": 8,
   "id": "d0c02e2d",
   "metadata": {},
   "outputs": [
    {
     "name": "stdout",
     "output_type": "stream",
     "text": [
      "Test bab() vs sqrt(), insert positive real number: 12091999\n",
      "3477.355173116488    vs    3477.355173116488\n"
     ]
    }
   ],
   "source": [
    "from math import sqrt\n",
    "\n",
    "x = float(input(\"Test bab() vs sqrt(), insert positive real number: \"))\n",
    "        \n",
    "print(bab(x) ,\"   vs   \", sqrt(x))"
   ]
  },
  {
   "cell_type": "markdown",
   "id": "d7d7f7dd",
   "metadata": {},
   "source": [
    "### Examples:"
   ]
  },
  {
   "cell_type": "code",
   "execution_count": 5,
   "id": "b1e28311",
   "metadata": {},
   "outputs": [
    {
     "name": "stdout",
     "output_type": "stream",
     "text": [
      "----Babilonian-------Math Module----\n",
      "0 ----- 0.0\n",
      "1 ----- 1.0\n",
      "1.414213562373095 1.4142135623730951\n",
      "2.0 ----- 2.0\n",
      "4.0 ----- 4.0\n",
      "10.0 ----- 10.0\n",
      "11111.111060555555 11111.111060555555\n",
      "3.481379037105842 3.481379037105842\n",
      "Can't compute square root of non positive real number\n"
     ]
    },
    {
     "ename": "ValueError",
     "evalue": "math domain error",
     "output_type": "error",
     "traceback": [
      "\u001b[0;31m---------------------------------------------------------------------------\u001b[0m",
      "\u001b[0;31mValueError\u001b[0m                                Traceback (most recent call last)",
      "Input \u001b[0;32mIn [5]\u001b[0m, in \u001b[0;36m<cell line: 10>\u001b[0;34m()\u001b[0m\n\u001b[1;32m      8\u001b[0m \u001b[38;5;28mprint\u001b[39m(bab(\u001b[38;5;241m123456789\u001b[39m) , sqrt(\u001b[38;5;241m123456789\u001b[39m))\n\u001b[1;32m      9\u001b[0m \u001b[38;5;28mprint\u001b[39m(bab(\u001b[38;5;241m12.12\u001b[39m) , sqrt(\u001b[38;5;241m12.12\u001b[39m))\n\u001b[0;32m---> 10\u001b[0m \u001b[38;5;28mprint\u001b[39m(bab(\u001b[38;5;241m-\u001b[39m\u001b[38;5;241m1\u001b[39m) , \u001b[43msqrt\u001b[49m\u001b[43m(\u001b[49m\u001b[38;5;241;43m-\u001b[39;49m\u001b[38;5;241;43m1\u001b[39;49m\u001b[43m)\u001b[49m)\n",
      "\u001b[0;31mValueError\u001b[0m: math domain error"
     ]
    }
   ],
   "source": [
    "print('----Babilonian-------Math Module----')\n",
    "print(bab(0) ,'-----', sqrt(0))\n",
    "print(bab(1) ,'-----', sqrt(1))\n",
    "print(bab(2) , sqrt(2))\n",
    "print(bab(4) ,'-----', sqrt(4))\n",
    "print(bab(16) ,'-----', sqrt(16))\n",
    "print(bab(100) ,'-----', sqrt(100))\n",
    "print(bab(123456789) , sqrt(123456789))\n",
    "print(bab(12.12) , sqrt(12.12))\n",
    "print(bab(-1) , sqrt(-1))"
   ]
  },
  {
   "cell_type": "markdown",
   "id": "b97f8a96",
   "metadata": {},
   "source": [
    "#### Link Colab:"
   ]
  },
  {
   "cell_type": "markdown",
   "id": "44dfe9eb",
   "metadata": {},
   "source": [
    "#### https://colab.research.google.com/drive/1qlosubw4pXjeMQEkAchW9UTpZ_OqxL1A?usp=sharing"
   ]
  }
 ],
 "metadata": {
  "kernelspec": {
   "display_name": "Python 3 (ipykernel)",
   "language": "python",
   "name": "python3"
  },
  "language_info": {
   "codemirror_mode": {
    "name": "ipython",
    "version": 3
   },
   "file_extension": ".py",
   "mimetype": "text/x-python",
   "name": "python",
   "nbconvert_exporter": "python",
   "pygments_lexer": "ipython3",
   "version": "3.8.10"
  }
 },
 "nbformat": 4,
 "nbformat_minor": 5
}
